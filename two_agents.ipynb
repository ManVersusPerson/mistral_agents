{
 "cells": [
  {
   "cell_type": "code",
   "execution_count": 4,
   "metadata": {},
   "outputs": [],
   "source": [
    "import ollama\n",
    "\n",
    "t = ollama.chat(\n",
    "    model='mistral',\n",
    "    messages=[{'role': 'user', 'content': 'Is ice cream good for your body?'}],\n",
    ")"
   ]
  },
  {
   "cell_type": "code",
   "execution_count": null,
   "metadata": {},
   "outputs": [],
   "source": []
  },
  {
   "cell_type": "code",
   "execution_count": 40,
   "metadata": {},
   "outputs": [],
   "source": [
    "system_message_teacher = \"You are a maths teacher. You will be given problem and solution to this problem. Your task is to say if solution is right or wrong and if solution is wrong propose possible corrections.\"\n",
    "# maybe give advice\n",
    "# possible concerns\n",
    "# make solution yourself and compare"
   ]
  },
  {
   "cell_type": "code",
   "execution_count": 9,
   "metadata": {},
   "outputs": [],
   "source": [
    "system_message_student = \"You are a student. You will be given problem and maybe some advices or corrections. Try to solve this problem with these corrections in mind.\""
   ]
  },
  {
   "cell_type": "code",
   "execution_count": 10,
   "metadata": {},
   "outputs": [],
   "source": [
    "question = 'Natalia sold clips to 48 of her friends in April, and then she sold half as many clips in May. How many clips did Natalia sell altogether in April and May?'"
   ]
  },
  {
   "cell_type": "code",
   "execution_count": 7,
   "metadata": {},
   "outputs": [],
   "source": [
    "stream = ollama.chat(\n",
    "    model='mistral',\n",
    "    messages=[{'role': 'user', 'content': question}],\n",
    ")"
   ]
  },
  {
   "cell_type": "code",
   "execution_count": 14,
   "metadata": {},
   "outputs": [
    {
     "data": {
      "text/plain": [
       "'Natalia sold clips to 48 of her friends in April, and then she sold half as many clips in May. How many clips did Natalia sell altogether in April and May?\\n In April, Natalia sold clips to 48 friends. In May, she sold half as many clips as she did in April, so she sold 48 * 0.5 = <<48*0.5=24>>24 clips.\\n\\nTherefore, Natalia sold a total of 48 + 24 = <<48+24=72>>72 clips in April and May.'"
      ]
     },
     "execution_count": 14,
     "metadata": {},
     "output_type": "execute_result"
    }
   ],
   "source": [
    "question + stream['message']['content']"
   ]
  },
  {
   "cell_type": "code",
   "execution_count": 15,
   "metadata": {},
   "outputs": [],
   "source": [
    "stream_corrections = ollama.chat(\n",
    "    model='mistral',\n",
    "    messages=[\n",
    "        {'role': 'system', 'content': system_message_teacher},\n",
    "        {'role': 'user', 'content': question + stream['message']['content']}],\n",
    ")"
   ]
  },
  {
   "cell_type": "code",
   "execution_count": null,
   "metadata": {},
   "outputs": [],
   "source": [
    "# можно пробовать перезадавать вопросы чтобы получить подобие дерева"
   ]
  },
  {
   "cell_type": "code",
   "execution_count": 16,
   "metadata": {},
   "outputs": [
    {
     "data": {
      "text/plain": [
       "{'model': 'mistral',\n",
       " 'created_at': '2024-03-27T13:50:03.895296762Z',\n",
       " 'message': {'role': 'assistant',\n",
       "  'content': ' The solution is correct. Natalia indeed sold 48 clips in April and 24 clips in May, making a total of 72 clips sold in both months.'},\n",
       " 'done': True,\n",
       " 'total_duration': 754119313,\n",
       " 'load_duration': 373830,\n",
       " 'prompt_eval_count': 177,\n",
       " 'prompt_eval_duration': 365864000,\n",
       " 'eval_count': 40,\n",
       " 'eval_duration': 386772000}"
      ]
     },
     "execution_count": 16,
     "metadata": {},
     "output_type": "execute_result"
    }
   ],
   "source": [
    "stream_corrections"
   ]
  },
  {
   "cell_type": "code",
   "execution_count": 18,
   "metadata": {},
   "outputs": [],
   "source": [
    "box_question = 'Ken created a care package to send to his brother, who was away at boarding school.  Ken placed a box on a scale, and then he poured into the box enough jelly beans to bring the weight to 2 pounds.  Then, he added enough brownies to cause the weight to triple.  Next, he added another 2 pounds of jelly beans.  And finally, he added enough gummy worms to double the weight once again.  What was the final weight of the box of goodies, in pounds?'"
   ]
  },
  {
   "cell_type": "code",
   "execution_count": 43,
   "metadata": {},
   "outputs": [],
   "source": [
    "stream = ollama.chat(\n",
    "    model='mistral',\n",
    "    messages=[{'role': 'user', 'content': box_question}],\n",
    ")"
   ]
  },
  {
   "cell_type": "code",
   "execution_count": 21,
   "metadata": {},
   "outputs": [
    {
     "data": {
      "text/plain": [
       "\" Let's calculate the weight of the box step by step:\\n\\n1. Initially, the weight of the box was 2 pounds (from jelly beans).\\n2. Ken then added enough brownies to triple the weight, so he added 2 x 3 = <<2*3=6>>6 pounds.\\n3. Next, he added another 2 pounds of jelly beans.\\n4. Finally, he added enough gummy worms to double the weight once again, so he added 6 x 2 = <<6*2=12>>12 pounds.\\n\\nTherefore, the final weight of the box was 2 + 6 + 2 + 12 = <<2+6+2+12=22>>22 pounds.\""
      ]
     },
     "execution_count": 21,
     "metadata": {},
     "output_type": "execute_result"
    }
   ],
   "source": [
    "stream['message']['content']"
   ]
  },
  {
   "cell_type": "code",
   "execution_count": 62,
   "metadata": {},
   "outputs": [],
   "source": [
    "box_stream_corrections = ollama.chat(\n",
    "    model='mistral',\n",
    "    messages=[\n",
    "        {'role': 'system', 'content': system_message_teacher},\n",
    "        {'role': 'user', 'content': box_question + stream['message']['content']}],\n",
    ")"
   ]
  },
  {
   "cell_type": "code",
   "execution_count": 63,
   "metadata": {},
   "outputs": [
    {
     "data": {
      "text/plain": [
       "' The solution is correct. The calculations and reasoning provided in each step are accurate, leading to the final weight of the box being 30 pounds.'"
      ]
     },
     "execution_count": 63,
     "metadata": {},
     "output_type": "execute_result"
    }
   ],
   "source": [
    "box_stream_corrections['message']['content']"
   ]
  }
 ],
 "metadata": {
  "kernelspec": {
   "display_name": "Python 3",
   "language": "python",
   "name": "python3"
  },
  "language_info": {
   "codemirror_mode": {
    "name": "ipython",
    "version": 3
   },
   "file_extension": ".py",
   "mimetype": "text/x-python",
   "name": "python",
   "nbconvert_exporter": "python",
   "pygments_lexer": "ipython3",
   "version": "3.10.12"
  }
 },
 "nbformat": 4,
 "nbformat_minor": 2
}
