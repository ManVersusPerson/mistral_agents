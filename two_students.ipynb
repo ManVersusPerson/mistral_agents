{
 "cells": [
  {
   "cell_type": "code",
   "execution_count": 1,
   "metadata": {},
   "outputs": [],
   "source": [
    "import ollama"
   ]
  },
  {
   "cell_type": "code",
   "execution_count": 9,
   "metadata": {},
   "outputs": [],
   "source": [
    "system_message_init = 'You will be given a math problem. Solve this problem using different approaches.'\n",
    "system_message_student = \"You will be given a math problem and another student's solution to this problem. Analyze another student's solutions. Tell if you find anything wrong with them.\""
   ]
  },
  {
   "cell_type": "code",
   "execution_count": 3,
   "metadata": {},
   "outputs": [],
   "source": [
    "question = 'Mark has a garden with flowers. He planted plants of three different colors in it. Ten of them are yellow, and there are 80% more of those in purple. There are only 25% as many green flowers as there are yellow and purple flowers. How many flowers does Mark have in his garden?'"
   ]
  },
  {
   "cell_type": "code",
   "execution_count": 5,
   "metadata": {},
   "outputs": [],
   "source": [
    "student_1_solutions = ollama.chat(\n",
    "    model='mistral',\n",
    "    messages=[\n",
    "        {'role': 'system', 'content': system_message_init},\n",
    "        {'role': 'user', 'content': question}],\n",
    ")\n",
    "\n",
    "student_2_solutions = ollama.chat(\n",
    "    model='mistral',\n",
    "    messages=[\n",
    "        {'role': 'system', 'content': system_message_init},\n",
    "        {'role': 'user', 'content': question}],\n",
    ")"
   ]
  },
  {
   "cell_type": "code",
   "execution_count": 7,
   "metadata": {},
   "outputs": [
    {
     "data": {
      "text/plain": [
       "\" Let's denote the number of purple flowers as x, and the number of green flowers as y. We know that the total number of flowers is the sum of these three quantities:\\n\\nTotal Flowers = Yellow + Purple + Green\\n\\nWe are given that there are 10 yellow flowers and that there are 80% more purple flowers than yellow ones. So, we have:\\n\\nPurple = 10 * 1.8 = 18\\n\\nAlso, we know that there are only 25% as many green flowers as there are yellow and purple flowers combined. Therefore, we have:\\n\\nGreen = (Yellow + Purple) * 0.25\\n\\nWe can substitute Yellow = 10 into the equation for Green:\\n\\nGreen = (10 + 18) * 0.25\\n\\nSolving this problem using algebraic approach, we get:\\n\\nTotal Flowers = 10 + 18 + Green\\nTotal Flowers = 28 + Green\\n\\nSubstitute Green with the equation above:\\n\\nTotal Flowers = 28 + (10 + 18) * 0.25\\nTotal Flowers = 28 + (38) * 0.25\\nTotal Flowers = 28 + 9.5\\nTotal Flowers = 37.5\\n\\nSince we cannot have a fraction of a flower, this problem does not have an exact solution using the given information. However, if we want to find an approximation for the total number of flowers, we can round up Total Flowers to the nearest integer:\\n\\nTotal Flowers ≈ 38.\\n\\nThus, according to the given information and using algebraic approach, Mark has approximately 38 flowers in his garden.\\n\\nAnother way to solve this problem would be to use a calculator or spreadsheet software to perform the calculations directly without having to manipulate equations. This method can give you an exact answer, but it might not provide insight into how the solution is derived using the given information.\""
      ]
     },
     "execution_count": 7,
     "metadata": {},
     "output_type": "execute_result"
    }
   ],
   "source": [
    "student_1_solutions['message']['content']"
   ]
  },
  {
   "cell_type": "code",
   "execution_count": 8,
   "metadata": {},
   "outputs": [
    {
     "data": {
      "text/plain": [
       "\" To find out how many flowers Mark has in his garden, we need to calculate the number of flowers for each color based on the given information.\\n\\nApproach 1: Using Percentages\\nLet's denote the number of purple flowers as x and the number of green flowers as y. We know that there are 80% more purple flowers than yellow ones, so we have:\\n\\nx = 1.8 * Ten (yellow flowers)\\n\\nAnd we also know that there are only 25% as many green flowers as there are yellow and purple flowers combined. So we have:\\n\\ny = 0.25 * (Ten + x)\\n\\nWe can now solve this system of equations to find the number of flowers for each color.\\n\\nApproach 2: Using Ratios\\nAnother way to approach this problem is by using ratios. We know that there are Ten yellow flowers, and the ratio between purple and yellow flowers is 1.8:1, and the ratio between green and (yellow + purple) flowers is 1:4. So we have:\\n\\n(Purple Flowers) : (Yellow Flowers) = 1.8 : 1\\n(Green Flowers) : (Total Flowers) = 1 : 4\\n\\nWe can cross-multiply to find the number of purple and green flowers based on the given information about yellow flowers:\\n\\n(1 * Total Flowers) : (1.8 * Ten) = (1 * Total Flowers) : (1 * x) : (1 * 4) : (1.8 * Ten)\\nTotal Flowers : x = 1 : 1.8 : 1 : 7.2\\n\\nTo find a common multiplier for all terms, we can divide both sides by their greatest common divisor (which is 1):\\n\\nTotal Flowers : x = 1 : 1.8 : 1 : 7.2  => Total Flowers : x = 1 : 1 : 1 : 6.6\\n\\nNow, we can use the information that there are Ten yellow flowers to find the number of purple and green flowers:\\n\\nTotal Flowers = 10 + x+y\\nx = 1.8 * 10 = 18\\ny = (Total Flowers - 10 - 18)/4 = 20\\n\\nSo, Approach 1 and Approach 2 both lead to the same result: Mark has a total of 38 flowers in his garden (10 yellow, 18 purple, and 10 green).\""
      ]
     },
     "execution_count": 8,
     "metadata": {},
     "output_type": "execute_result"
    }
   ],
   "source": [
    "student_2_solutions['message']['content']"
   ]
  },
  {
   "cell_type": "code",
   "execution_count": 10,
   "metadata": {},
   "outputs": [],
   "source": [
    "student_1_analysis = ollama.chat(\n",
    "    model='mistral',\n",
    "    messages=[\n",
    "        {'role': 'system', 'content': system_message_student},\n",
    "        {'role': 'user', 'content': question + ' ' + student_2_solutions['message']['content']}],\n",
    ")\n",
    "\n",
    "student_2_analysis = ollama.chat(\n",
    "    model='mistral',\n",
    "    messages=[\n",
    "        {'role': 'system', 'content': system_message_student},\n",
    "        {'role': 'user', 'content': question + ' ' + student_1_solutions['message']['content']}],\n",
    ")"
   ]
  },
  {
   "cell_type": "code",
   "execution_count": 11,
   "metadata": {},
   "outputs": [
    {
     "data": {
      "text/plain": [
       "' Both approaches, Approach 1 using percentages and Approach 2 using ratios, yielded the same result, which is that Mark has a total of 38 flowers in his garden (10 yellow, 18 purple, and 10 green). Therefore, neither approach contains any apparent errors based on the given information. Both methods effectively utilized the provided constraints to find the number of flowers for each color.'"
      ]
     },
     "execution_count": 11,
     "metadata": {},
     "output_type": "execute_result"
    }
   ],
   "source": [
    "student_1_analysis['message']['content']"
   ]
  },
  {
   "cell_type": "code",
   "execution_count": 13,
   "metadata": {},
   "outputs": [
    {
     "data": {
      "text/plain": [
       "\" The student's solution appears to be correct based on the given information and algebraic manipulation of the equations provided. However, I would like to emphasize that the result, approximately 38 flowers, is an estimation since we cannot have a fraction of a flower in reality. Furthermore, using a calculator or spreadsheet software might indeed yield an exact answer but could potentially obscure the thought process and understanding behind the calculations.\""
      ]
     },
     "execution_count": 13,
     "metadata": {},
     "output_type": "execute_result"
    }
   ],
   "source": [
    "student_2_analysis['message']['content']"
   ]
  },
  {
   "cell_type": "code",
   "execution_count": 14,
   "metadata": {},
   "outputs": [],
   "source": [
    "system_message_init_2ver = 'You will be given a math problem. Solve this problem. Do not forget to check if calculations are right and solution is logical.'\n",
    "system_message_student_2ver = \"You will be given a math problem and another student's solution to this problem. Analyze another student's solution and compare it to yours. Tell if you find anything wrong with them.\""
   ]
  },
  {
   "cell_type": "code",
   "execution_count": 15,
   "metadata": {},
   "outputs": [],
   "source": [
    "student_1_solution_2ver = ollama.chat(\n",
    "    model='mistral',\n",
    "    messages=[\n",
    "        {'role': 'system', 'content': system_message_init_2ver},\n",
    "        {'role': 'user', 'content': question}],\n",
    ")\n",
    "\n",
    "student_2_solution_2ver = ollama.chat(\n",
    "    model='mistral',\n",
    "    messages=[\n",
    "        {'role': 'system', 'content': system_message_init_2ver},\n",
    "        {'role': 'user', 'content': question}],\n",
    ")"
   ]
  },
  {
   "cell_type": "code",
   "execution_count": 16,
   "metadata": {},
   "outputs": [
    {
     "data": {
      "text/plain": [
       "\" Let's denote the number of purple flowers as Y, and the number of green flowers as G.\\n\\nWe know that there are 10 yellow flowers, and there are 80% more purple flowers than yellow ones. So, we can find the number of purple flowers by calculating 1.8 times the number of yellow flowers:\\n\\nY = 1.8 * 10 = <<1.8*10=18>>18\\n\\nNow, we know that there are only 25% as many green flowers as there are yellow and purple flowers combined. So, we can find the number of green flowers by calculating 0.25 times the sum of yellow and purple flowers:\\n\\nG = 0.25 * (10 + 18) = <<0.25*(10+18)=6>>6\\n\\nTherefore, Mark has a total of 10 + 18 + 6 = <<10+18+6=34>>34 flowers in his garden.\\n\\nSo the solution is logical and calculations are correct.\""
      ]
     },
     "execution_count": 16,
     "metadata": {},
     "output_type": "execute_result"
    }
   ],
   "source": [
    "student_1_solution_2ver['message']['content']"
   ]
  },
  {
   "cell_type": "code",
   "execution_count": 17,
   "metadata": {},
   "outputs": [
    {
     "data": {
      "text/plain": [
       "\" Let's denote the number of purple flowers as Yp and the number of green flowers as Yg. We know that there are ten yellow flowers (Yellow = 10) and that there are 80% more purple flowers than yellow ones, so Yp = 10 * 1.8 = 18.\\n\\nWe also know that there are only 25% as many green flowers as there are yellow and purple flowers, so Yg = (Yellow + Yp) * 0.25 = (10 + 18) * 0.25 = 47.5. Since the number of flowers must be a whole number, let's assume that Mark has an additional flower of any color to make up for the half green flower.\\n\\nSo, the total number of flowers in Mark's garden is: Yellow + Yp + Yg = 10 + 18 + 48 = 76 flowers.\""
      ]
     },
     "execution_count": 17,
     "metadata": {},
     "output_type": "execute_result"
    }
   ],
   "source": [
    "student_2_solution_2ver['message']['content']"
   ]
  },
  {
   "cell_type": "code",
   "execution_count": 18,
   "metadata": {},
   "outputs": [],
   "source": [
    "student_1_analysis_2ver = ollama.chat(\n",
    "    model='mistral',\n",
    "    messages=[\n",
    "        {'role': 'system', 'content': system_message_student_2ver},\n",
    "        {'role': 'user', 'content': question + ' Another student\"s solution ' + student_2_solution_2ver['message']['content'] + ' Your solution ' + student_1_solution_2ver['message']['content']}],\n",
    ")\n",
    "\n",
    "student_2_analysis_2ver = ollama.chat(\n",
    "    model='mistral',\n",
    "    messages=[\n",
    "        {'role': 'system', 'content': system_message_student_2ver},\n",
    "        {'role': 'user', 'content': question + ' Another student\"s solution ' + student_1_solution_2ver['message']['content'] + ' Your solution ' + student_2_solution_2ver['message']['content']}],\n",
    ")"
   ]
  },
  {
   "cell_type": "code",
   "execution_count": 19,
   "metadata": {},
   "outputs": [
    {
     "data": {
      "text/plain": [
       "\" Based on the given information, both solutions arrive at the same total number of flowers in Mark's garden, which is 76 or 34 when considering an extra flower for the half green flower calculation. The logic behind each solution is also similar, as they both use the provided information to calculate the number of each color flower and then sum them up to find the total number of flowers.\\n\\nTherefore, there's no significant difference between the two solutions, and neither of them contains any apparent mistakes. Both solutions correctly apply the given percentages to determine the number of purple and green flowers and arrive at the correct total number of flowers in Mark's garden.\""
      ]
     },
     "execution_count": 19,
     "metadata": {},
     "output_type": "execute_result"
    }
   ],
   "source": [
    "student_1_analysis_2ver['message']['content']"
   ]
  },
  {
   "cell_type": "code",
   "execution_count": 20,
   "metadata": {},
   "outputs": [
    {
     "data": {
      "text/plain": [
       "\" Both solutions are logically sound and arrive at different, yet equally valid, answers due to the assumptions made regarding rounding up or down the number of green flowers in the second solution.\\n\\nThe first student's calculation is correct, leading to a total of 34 flowers in Mark's garden. In this solution, there is no assumption made about the number of additional flowers, and it results in an exact number.\\n\\nYour second solution also arrives at a valid answer. You have calculated that there are 18 purple flowers (Yp) and assumed that Mark has an additional flower to make up for the half green flower, resulting in 49 green flowers (Yg). This leads to a total of 76 flowers in the garden.\\n\\nBoth solutions are correct; however, the first solution provides an exact number, while your solution assumes the presence of an extra flower in the garden to account for the fractional value of green flowers.\""
      ]
     },
     "execution_count": 20,
     "metadata": {},
     "output_type": "execute_result"
    }
   ],
   "source": [
    "student_2_analysis_2ver['message']['content']"
   ]
  },
  {
   "cell_type": "code",
   "execution_count": null,
   "metadata": {},
   "outputs": [],
   "source": [
    "#еужно ли прописывать в систем сообщениях прям советы типо смотри за округлениями и тд или это слишком много подсказок из вне "
   ]
  }
 ],
 "metadata": {
  "kernelspec": {
   "display_name": "Python 3",
   "language": "python",
   "name": "python3"
  },
  "language_info": {
   "codemirror_mode": {
    "name": "ipython",
    "version": 3
   },
   "file_extension": ".py",
   "mimetype": "text/x-python",
   "name": "python",
   "nbconvert_exporter": "python",
   "pygments_lexer": "ipython3",
   "version": "3.10.12"
  }
 },
 "nbformat": 4,
 "nbformat_minor": 2
}
