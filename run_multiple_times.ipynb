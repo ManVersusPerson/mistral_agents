{
 "cells": [
  {
   "cell_type": "code",
   "execution_count": 1,
   "metadata": {},
   "outputs": [],
   "source": [
    "import ollama\n",
    "import datasets\n",
    "import pandas as pd\n",
    "import re"
   ]
  },
  {
   "cell_type": "markdown",
   "metadata": {},
   "source": [
    "# Подготовка заданного числа вопросов и ответов"
   ]
  },
  {
   "cell_type": "code",
   "execution_count": 2,
   "metadata": {},
   "outputs": [],
   "source": [
    "from datasets import load_dataset\n",
    "\n",
    "dataset = load_dataset(\"gsm8k\", 'main')"
   ]
  },
  {
   "cell_type": "code",
   "execution_count": 3,
   "metadata": {},
   "outputs": [],
   "source": [
    "full_answers = (dataset['train'][:]['answer'][:100])"
   ]
  },
  {
   "cell_type": "code",
   "execution_count": 4,
   "metadata": {},
   "outputs": [],
   "source": [
    "def get_short_answers(full_answer):\n",
    "    return re.search('(?s)(?<=#### )(.*$)', full_answer)[0]"
   ]
  },
  {
   "cell_type": "code",
   "execution_count": 5,
   "metadata": {},
   "outputs": [],
   "source": [
    "short_answers = list(map(get_short_answers, full_answers))"
   ]
  },
  {
   "cell_type": "code",
   "execution_count": 6,
   "metadata": {},
   "outputs": [],
   "source": [
    "questions = dataset['train'][:]['question'][:100]"
   ]
  },
  {
   "cell_type": "markdown",
   "metadata": {},
   "source": [
    "# Прогон модели 15 раз:"
   ]
  },
  {
   "cell_type": "code",
   "execution_count": 10,
   "metadata": {},
   "outputs": [],
   "source": [
    "def ask_question(question):\n",
    "    x = ollama.chat(model='mistral', messages=[\n",
    "    {\n",
    "    'role': 'user',\n",
    "    'content': question,\n",
    "    }\n",
    "    ])\n",
    "    return x['message']['content']"
   ]
  },
  {
   "cell_type": "code",
   "execution_count": 8,
   "metadata": {},
   "outputs": [],
   "source": [
    "# запятая точ ка после трех,\n",
    "# если одна то проверять .\\, пробел и доллар\n",
    "def check_answer(row):\n",
    "    # добавить точки и запятые\n",
    "\n",
    "    end_of_mistral_answer = row.mistral_answers[-200:]\n",
    "    answer_length = len(row.true_answers)\n",
    "    match = re.search(r'\\D' + str(row.true_answers) + r'\\D', end_of_mistral_answer)\n",
    "    row.check = True if match else False\n",
    "    # для случаев 4,351\n",
    "    if answer_length > 3:\n",
    "        if row.true_answers in end_of_mistral_answer or row.true_answers[:-3] + ',' + row.true_answers[-3:] in end_of_mistral_answer or row.true_answers[:-3] + '.' + row.true_answers[-3:] in end_of_mistral_answer:\n",
    "            row.check = True\n",
    "        else:\n",
    "            row.check = False\n",
    "    '''else:\n",
    "        # ес\n",
    "        if  row.true_answers in end_of_mistral_answer[-10:]\n",
    "        if ' ' + row.true_answers + ' ' in end_of_mistral_answer or '$' + row.true_answers + ' ' in end_of_mistral_answer or ' ' + row.true_answers + '$' in end_of_mistral_answer:\n",
    "            row.check = True\n",
    "        else:\n",
    "            row.check = False'''\n",
    "    return row\n",
    "# !!!!!!!!!!!!!!!!!!!\n",
    "# ЕСТЬ РИСК ТОГО, ЧТО ОТВЕТ ВСТРЕЧАЕТСЯ В НАЧАЛЬНЫХ ДАННЫХ ИЛИ ВО ВРЕМЯ РАСЧЕТОВ\n",
    "# подумать еще над случаем, когда выдает ответ в десятичной форме"
   ]
  },
  {
   "cell_type": "code",
   "execution_count": 32,
   "metadata": {},
   "outputs": [],
   "source": [
    "answer_df_from_different_runs = []"
   ]
  },
  {
   "cell_type": "code",
   "execution_count": 33,
   "metadata": {},
   "outputs": [],
   "source": [
    "for i in range(20):\n",
    "    mistral_answers =[]\n",
    "    for question in questions:\n",
    "        \n",
    "        answer = ask_question(question)\n",
    "        mistral_answers.append(answer)\n",
    "    answers_df = pd.DataFrame({'mistral_answers': mistral_answers, 'true_answers': short_answers, 'check': False})\n",
    "    answers_df = answers_df.apply(check_answer, axis='columns')\n",
    "    answer_df_from_different_runs.append(answers_df)"
   ]
  },
  {
   "cell_type": "code",
   "execution_count": 42,
   "metadata": {},
   "outputs": [
    {
     "data": {
      "text/plain": [
       "mistral_answers    54\n",
       "true_answers       54\n",
       "check              54\n",
       "dtype: int64"
      ]
     },
     "execution_count": 42,
     "metadata": {},
     "output_type": "execute_result"
    }
   ],
   "source": [
    "answer_df_from_different_runs[12].query('check==False').count()"
   ]
  },
  {
   "cell_type": "markdown",
   "metadata": {},
   "source": [
    "# Save DFs"
   ]
  },
  {
   "cell_type": "code",
   "execution_count": 43,
   "metadata": {},
   "outputs": [],
   "source": [
    "import pickle"
   ]
  },
  {
   "cell_type": "code",
   "execution_count": 44,
   "metadata": {},
   "outputs": [],
   "source": [
    "with open(\"baseline_dfs\", \"wb\") as fp:   #Pickling\n",
    "   pickle.dump(answer_df_from_different_runs, fp)"
   ]
  },
  {
   "cell_type": "code",
   "execution_count": 45,
   "metadata": {},
   "outputs": [],
   "source": [
    "with open(\"baseline_dfs\", \"rb\") as fp:   # Unpickling\n",
    "   b = pickle.load(fp)"
   ]
  },
  {
   "cell_type": "code",
   "execution_count": 49,
   "metadata": {},
   "outputs": [
    {
     "data": {
      "text/plain": [
       "20"
      ]
     },
     "execution_count": 49,
     "metadata": {},
     "output_type": "execute_result"
    }
   ],
   "source": [
    "len(b)"
   ]
  },
  {
   "cell_type": "markdown",
   "metadata": {},
   "source": [
    "# Прогон трех моделей с голосованием"
   ]
  },
  {
   "cell_type": "code",
   "execution_count": 11,
   "metadata": {},
   "outputs": [],
   "source": [
    "def check_triple_answer(row):\n",
    "    # добавить точки и запятые\n",
    "    answer_length = len(row.true_answers)\n",
    "    matches = [False, False, False]\n",
    "    end_of_mistral_answer_1 = row.mistral_answers_1[-200:]\n",
    "    end_of_mistral_answer_2 = row.mistral_answers_2[-200:]\n",
    "    end_of_mistral_answer_3 = row.mistral_answers_3[-200:]\n",
    "    if answer_length < 3:\n",
    "        matches[0] = bool(re.search(r'\\D' + str(row.true_answers) + r'\\D', end_of_mistral_answer_1))\n",
    "        matches[1] = bool(re.search(r'\\D' + str(row.true_answers) + r'\\D', end_of_mistral_answer_2))\n",
    "        matches[2] = bool(re.search(r'\\D' + str(row.true_answers) + r'\\D', end_of_mistral_answer_3))\n",
    "    # для случаев 4,351\n",
    "    else:\n",
    "        matches[0] = row.true_answers in end_of_mistral_answer_1 or row.true_answers[:-3] + ',' + row.true_answers[-3:] in end_of_mistral_answer_1 or row.true_answers[:-3] + '.' + row.true_answers[-3:] in end_of_mistral_answer_1\n",
    "        matches[1] = row.true_answers in end_of_mistral_answer_2 or row.true_answers[:-3] + ',' + row.true_answers[-3:] in end_of_mistral_answer_2 or row.true_answers[:-3] + '.' + row.true_answers[-3:] in end_of_mistral_answer_2\n",
    "        matches[2] = row.true_answers in end_of_mistral_answer_3 or row.true_answers[:-3] + ',' + row.true_answers[-3:] in end_of_mistral_answer_3 or row.true_answers[:-3] + '.' + row.true_answers[-3:] in end_of_mistral_answer_3\n",
    "\n",
    "    row.check = True if matches.count(True) > 1 else False\n",
    "\n",
    "    return row\n",
    "# !!!!!!!!!!!!!!!!!!!\n",
    "# ЕСТЬ РИСК ТОГО, ЧТО ОТВЕТ ВСТРЕЧАЕТСЯ В НАЧАЛЬНЫХ ДАННЫХ ИЛИ ВО ВРЕМЯ РАСЧЕТОВ\n",
    "# подумать еще над случаем, когда выдает ответ в десятичной форме"
   ]
  },
  {
   "cell_type": "code",
   "execution_count": 8,
   "metadata": {},
   "outputs": [],
   "source": [
    "answer_df_from_triple_different_runs = []"
   ]
  },
  {
   "cell_type": "code",
   "execution_count": 12,
   "metadata": {},
   "outputs": [],
   "source": [
    "for i in range(20):\n",
    "    triple_mistral_answers =[[], [], []]\n",
    "    for question in questions:\n",
    "        for i in range(3):\n",
    "            answer = ask_question(question)\n",
    "            triple_mistral_answers[i].append(answer)\n",
    "    triple_answers_df = pd.DataFrame({'mistral_answers_1': triple_mistral_answers[0], 'mistral_answers_2': triple_mistral_answers[1], \n",
    "                                      'mistral_answers_3': triple_mistral_answers[2], 'true_answers': short_answers, 'check': False})\n",
    "    triple_answers_df = triple_answers_df.apply(check_triple_answer, axis='columns')\n",
    "    answer_df_from_triple_different_runs.append(triple_answers_df)"
   ]
  },
  {
   "cell_type": "code",
   "execution_count": 14,
   "metadata": {},
   "outputs": [],
   "source": [
    "import pickle"
   ]
  },
  {
   "cell_type": "code",
   "execution_count": 15,
   "metadata": {},
   "outputs": [],
   "source": [
    "with open(\"triple_dfs\", \"wb\") as fp:   #Pickling\n",
    "   pickle.dump(answer_df_from_triple_different_runs, fp)"
   ]
  },
  {
   "cell_type": "code",
   "execution_count": 17,
   "metadata": {},
   "outputs": [
    {
     "data": {
      "text/html": [
       "<div>\n",
       "<style scoped>\n",
       "    .dataframe tbody tr th:only-of-type {\n",
       "        vertical-align: middle;\n",
       "    }\n",
       "\n",
       "    .dataframe tbody tr th {\n",
       "        vertical-align: top;\n",
       "    }\n",
       "\n",
       "    .dataframe thead th {\n",
       "        text-align: right;\n",
       "    }\n",
       "</style>\n",
       "<table border=\"1\" class=\"dataframe\">\n",
       "  <thead>\n",
       "    <tr style=\"text-align: right;\">\n",
       "      <th></th>\n",
       "      <th>mistral_answers_1</th>\n",
       "      <th>mistral_answers_2</th>\n",
       "      <th>mistral_answers_3</th>\n",
       "      <th>true_answers</th>\n",
       "      <th>check</th>\n",
       "    </tr>\n",
       "  </thead>\n",
       "  <tbody>\n",
       "    <tr>\n",
       "      <th>0</th>\n",
       "      <td>In April, Natalia sold clips to 48 friends. I...</td>\n",
       "      <td>In April, Natalia sold clips to 48 friends. I...</td>\n",
       "      <td>In April, Natalia sold clips to 48 friends. I...</td>\n",
       "      <td>72</td>\n",
       "      <td>True</td>\n",
       "    </tr>\n",
       "    <tr>\n",
       "      <th>1</th>\n",
       "      <td>To find out how much Weng earned for babysitt...</td>\n",
       "      <td>To find out how much Weng earned for babysitt...</td>\n",
       "      <td>First, let's convert the number of minutes in...</td>\n",
       "      <td>10</td>\n",
       "      <td>True</td>\n",
       "    </tr>\n",
       "    <tr>\n",
       "      <th>2</th>\n",
       "      <td>Betty currently has $15 from her parents. Her...</td>\n",
       "      <td>Let's calculate how much money Betty currentl...</td>\n",
       "      <td>First, let's find out how much money Betty's ...</td>\n",
       "      <td>5</td>\n",
       "      <td>False</td>\n",
       "    </tr>\n",
       "    <tr>\n",
       "      <th>3</th>\n",
       "      <td>Let's break down the problem step by step:\\n\\...</td>\n",
       "      <td>Let's break down this problem step by step:\\n...</td>\n",
       "      <td>Let's first find out how many pages Julie has...</td>\n",
       "      <td>42</td>\n",
       "      <td>True</td>\n",
       "    </tr>\n",
       "    <tr>\n",
       "      <th>4</th>\n",
       "      <td>James writes a 3-page letter to each of his t...</td>\n",
       "      <td>James writes a 3-page letter to each of his t...</td>\n",
       "      <td>James writes a 3-page letter to each of his t...</td>\n",
       "      <td>624</td>\n",
       "      <td>False</td>\n",
       "    </tr>\n",
       "    <tr>\n",
       "      <th>...</th>\n",
       "      <td>...</td>\n",
       "      <td>...</td>\n",
       "      <td>...</td>\n",
       "      <td>...</td>\n",
       "      <td>...</td>\n",
       "    </tr>\n",
       "    <tr>\n",
       "      <th>95</th>\n",
       "      <td>Let's first find out how many nickels Alice r...</td>\n",
       "      <td>First, let's find out how many nickels Alice ...</td>\n",
       "      <td>First, let's find out how many nickels Alice ...</td>\n",
       "      <td>64</td>\n",
       "      <td>False</td>\n",
       "    </tr>\n",
       "    <tr>\n",
       "      <th>96</th>\n",
       "      <td>First, let's calculate how many gallons of wa...</td>\n",
       "      <td>First, let's find out how many gallons of wat...</td>\n",
       "      <td>First, let's calculate how many gallons of wa...</td>\n",
       "      <td>126</td>\n",
       "      <td>True</td>\n",
       "    </tr>\n",
       "    <tr>\n",
       "      <th>97</th>\n",
       "      <td>Let's break down the number of books Nancy sh...</td>\n",
       "      <td>To find out how many books Nancy had on the c...</td>\n",
       "      <td>Let's break down the number of books Nancy sh...</td>\n",
       "      <td>46</td>\n",
       "      <td>False</td>\n",
       "    </tr>\n",
       "    <tr>\n",
       "      <th>98</th>\n",
       "      <td>Let's denote the number of gumballs Hector in...</td>\n",
       "      <td>Let's break down the problem by finding out h...</td>\n",
       "      <td>Let's denote the number of gumballs Hector or...</td>\n",
       "      <td>45</td>\n",
       "      <td>False</td>\n",
       "    </tr>\n",
       "    <tr>\n",
       "      <th>99</th>\n",
       "      <td>To determine how many more fish Gail has in t...</td>\n",
       "      <td>To determine how many more fish Gail has in t...</td>\n",
       "      <td>To find out how many more fish Gail has in th...</td>\n",
       "      <td>3</td>\n",
       "      <td>False</td>\n",
       "    </tr>\n",
       "  </tbody>\n",
       "</table>\n",
       "<p>100 rows × 5 columns</p>\n",
       "</div>"
      ],
      "text/plain": [
       "                                    mistral_answers_1  \\\n",
       "0    In April, Natalia sold clips to 48 friends. I...   \n",
       "1    To find out how much Weng earned for babysitt...   \n",
       "2    Betty currently has $15 from her parents. Her...   \n",
       "3    Let's break down the problem step by step:\\n\\...   \n",
       "4    James writes a 3-page letter to each of his t...   \n",
       "..                                                ...   \n",
       "95   Let's first find out how many nickels Alice r...   \n",
       "96   First, let's calculate how many gallons of wa...   \n",
       "97   Let's break down the number of books Nancy sh...   \n",
       "98   Let's denote the number of gumballs Hector in...   \n",
       "99   To determine how many more fish Gail has in t...   \n",
       "\n",
       "                                    mistral_answers_2  \\\n",
       "0    In April, Natalia sold clips to 48 friends. I...   \n",
       "1    To find out how much Weng earned for babysitt...   \n",
       "2    Let's calculate how much money Betty currentl...   \n",
       "3    Let's break down this problem step by step:\\n...   \n",
       "4    James writes a 3-page letter to each of his t...   \n",
       "..                                                ...   \n",
       "95   First, let's find out how many nickels Alice ...   \n",
       "96   First, let's find out how many gallons of wat...   \n",
       "97   To find out how many books Nancy had on the c...   \n",
       "98   Let's break down the problem by finding out h...   \n",
       "99   To determine how many more fish Gail has in t...   \n",
       "\n",
       "                                    mistral_answers_3 true_answers  check  \n",
       "0    In April, Natalia sold clips to 48 friends. I...           72   True  \n",
       "1    First, let's convert the number of minutes in...           10   True  \n",
       "2    First, let's find out how much money Betty's ...            5  False  \n",
       "3    Let's first find out how many pages Julie has...           42   True  \n",
       "4    James writes a 3-page letter to each of his t...          624  False  \n",
       "..                                                ...          ...    ...  \n",
       "95   First, let's find out how many nickels Alice ...           64  False  \n",
       "96   First, let's calculate how many gallons of wa...          126   True  \n",
       "97   Let's break down the number of books Nancy sh...           46  False  \n",
       "98   Let's denote the number of gumballs Hector or...           45  False  \n",
       "99   To find out how many more fish Gail has in th...            3  False  \n",
       "\n",
       "[100 rows x 5 columns]"
      ]
     },
     "execution_count": 17,
     "metadata": {},
     "output_type": "execute_result"
    }
   ],
   "source": [
    "answer_df_from_triple_different_runs[19]"
   ]
  }
 ],
 "metadata": {
  "kernelspec": {
   "display_name": "Python 3",
   "language": "python",
   "name": "python3"
  },
  "language_info": {
   "codemirror_mode": {
    "name": "ipython",
    "version": 3
   },
   "file_extension": ".py",
   "mimetype": "text/x-python",
   "name": "python",
   "nbconvert_exporter": "python",
   "pygments_lexer": "ipython3",
   "version": "3.10.12"
  }
 },
 "nbformat": 4,
 "nbformat_minor": 2
}
