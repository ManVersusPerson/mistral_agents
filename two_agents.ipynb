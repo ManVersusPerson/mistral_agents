{
 "cells": [
  {
   "cell_type": "code",
   "execution_count": 1,
   "metadata": {},
   "outputs": [],
   "source": [
    "import ollama\n",
    "\n",
    "t = ollama.chat(\n",
    "    model='mistral',\n",
    "    messages=[{'role': 'user', 'content': 'Is ice cream good for your body?'}],\n",
    ")"
   ]
  },
  {
   "cell_type": "code",
   "execution_count": null,
   "metadata": {},
   "outputs": [],
   "source": []
  },
  {
   "cell_type": "code",
   "execution_count": 25,
   "metadata": {},
   "outputs": [],
   "source": [
    "# system_message_teacher = \"You are a maths teacher. You will be given problem and solution to this problem. Your task is to say if solution is right or wrong and if solution is wrong propose possible corrections.\"\n",
    "# maybe give advice\n",
    "# possible concerns\n",
    "# make solution yourself and compare\n",
    "system_message_teacher = \"You are a maths teacher. You will be given problem and different solutions to this problem. Your task is to find correct solution. If there are no correct solutions, solve the task yourself.\"\n"
   ]
  },
  {
   "cell_type": "code",
   "execution_count": 21,
   "metadata": {},
   "outputs": [],
   "source": [
    "# system_message_student = \"You are a student. You will be given problem and maybe some advices or corrections. Try to solve this problem with these corrections in mind.\"\n",
    "system_message_student = \"You are a student. You will be given problem. Try to solve this problem using different approaches.\""
   ]
  },
  {
   "cell_type": "code",
   "execution_count": 22,
   "metadata": {},
   "outputs": [],
   "source": [
    "question = 'Natalia sold clips to 48 of her friends in April, and then she sold half as many clips in May. How many clips did Natalia sell altogether in April and May?'"
   ]
  },
  {
   "cell_type": "code",
   "execution_count": 23,
   "metadata": {},
   "outputs": [],
   "source": [
    "stream = ollama.chat(\n",
    "    model='mistral',\n",
    "    messages=[\n",
    "        {'role': 'system', 'content': system_message_student},\n",
    "        {'role': 'user', 'content': question}],\n",
    ")"
   ]
  },
  {
   "cell_type": "code",
   "execution_count": 24,
   "metadata": {},
   "outputs": [
    {
     "data": {
      "text/plain": [
       "'Natalia sold clips to 48 of her friends in April, and then she sold half as many clips in May. How many clips did Natalia sell altogether in April and May? Approach 1 (Direct Calculation):\\n\\n1. We know that Natalia sold 48 clips in April.\\n2. She sold half as many clips in May, so she sold 48 * 0.5 = <<48*0.5=24>>24 clips in May.\\n3. To find the total number of clips Natalia sold in both months, we add the number of clips sold in each month: Total clips = Clips in April + Clips in May = 48 + 24 = <<48+24=72>>72 clips.\\n\\nApproach 2 (Using Variables):\\n\\n1. Let x be the number of clips Natalia sold in April.\\n2. In May, she sold half as many clips, so she sold x/2 clips.\\n3. To find the total number of clips Natalia sold in both months, we add the number of clips sold in each month: Total clips = x + x/2.\\n4. To solve for x, we can use the fact that 1 + 1/2 = 2 (which is true because 2 * 1 = 2 and 2 * 1/2 = 1): So, x = 2 * 48 = <<2*48=96>>96. However, this answer is incorrect since Natalia only sold 48 clips in April. To get the correct answer, we need to divide the number of clips she sold in May by 2 (since she sold half as many clips in May as she did in April): x/2 = 24, so x = 48 * 2 = <<48*2=96>>96 (which is double the actual number). To correct this, we can set up the equation: Total clips = x + x/2 => total clips = 1.5x. Since Natalia actually sold 72 clips in total, we have: 1.5x = 72 => x = 48. So, Natalia sold 48 clips in April and 24 clips in May for a total of 72 clips.\\n\\nApproach 3 (Using Multiplication Principle):\\n\\n1. We know that Natalia sold 48 clips to her friends in April.\\n2. In May, she sold half as many clips as she did in April, so she sold 48 * 0.5 = <<48*0.5=24>>24 clips.\\n3. To find the total number of clips Natalia sold in both months, we use the multiplication principle: Total clips = Clips in April + Clips in May = 48 + 24 = <<48+24=72>>72 clips.'"
      ]
     },
     "execution_count": 24,
     "metadata": {},
     "output_type": "execute_result"
    }
   ],
   "source": [
    "question + stream['message']['content']"
   ]
  },
  {
   "cell_type": "code",
   "execution_count": 26,
   "metadata": {},
   "outputs": [],
   "source": [
    "stream_corrections = ollama.chat(\n",
    "    model='mistral',\n",
    "    messages=[\n",
    "        {'role': 'system', 'content': system_message_teacher},\n",
    "        {'role': 'user', 'content': question + stream['message']['content']}],\n",
    ")"
   ]
  },
  {
   "cell_type": "code",
   "execution_count": null,
   "metadata": {},
   "outputs": [],
   "source": [
    "# можно пробовать перезадавать вопросы чтобы получить подобие дерева"
   ]
  },
  {
   "cell_type": "code",
   "execution_count": 27,
   "metadata": {},
   "outputs": [
    {
     "data": {
      "text/plain": [
       "{'model': 'mistral',\n",
       " 'created_at': '2024-04-01T18:23:16.366929128Z',\n",
       " 'message': {'role': 'assistant',\n",
       "  'content': ' Approach 3 (Using Multiplication Principle) is the correct approach to find the total number of clips Natalia sold in April and May. The multiplication principle states that the number of ways two or more events can happen is the product of the number of ways each event can happen. In this case, there is only one way Natalia could sell 48 clips in April and another way she could sell 24 clips in May. Therefore, the total number of ways (or number of clips) Natalia could sell is the product of the number of ways she sold in each month: Total clips = Clips in April + Clips in May = 48 + 24 = <<48+24=72>>72.\\n\\nApproach 1 and Approach 2 are both correct in their individual steps but have incorrect results due to an error in the calculation of the number of clips Natalia sold in May using the given information that she sold half as many clips in May as she did in April. However, since we know that Natalia sold 48 clips in April, it follows that she must have sold 24 clips in May for a total of 72 clips.'},\n",
       " 'done': True,\n",
       " 'total_duration': 4269881027,\n",
       " 'load_duration': 1287017004,\n",
       " 'prompt_eval_count': 722,\n",
       " 'prompt_eval_duration': 231235000,\n",
       " 'eval_count': 264,\n",
       " 'eval_duration': 2749134000}"
      ]
     },
     "execution_count": 27,
     "metadata": {},
     "output_type": "execute_result"
    }
   ],
   "source": [
    "stream_corrections"
   ]
  },
  {
   "cell_type": "code",
   "execution_count": 28,
   "metadata": {},
   "outputs": [],
   "source": [
    "box_question = 'Ken created a care package to send to his brother, who was away at boarding school.  Ken placed a box on a scale, and then he poured into the box enough jelly beans to bring the weight to 2 pounds.  Then, he added enough brownies to cause the weight to triple.  Next, he added another 2 pounds of jelly beans.  And finally, he added enough gummy worms to double the weight once again.  What was the final weight of the box of goodies, in pounds?'"
   ]
  },
  {
   "cell_type": "code",
   "execution_count": 29,
   "metadata": {},
   "outputs": [],
   "source": [
    "stream = ollama.chat(\n",
    "    model='mistral',\n",
    "    messages=[\n",
    "        {'role': 'system', 'content': system_message_student},\n",
    "        {'role': 'user', 'content': box_question}],\n",
    ")"
   ]
  },
  {
   "cell_type": "code",
   "execution_count": 30,
   "metadata": {},
   "outputs": [
    {
     "data": {
      "text/plain": [
       "\" Let's break down the problem step by step:\\n\\n1. Ken started with an empty box and filled it with jelly beans until it weighed 2 pounds. So, the weight of jelly beans is 2 pounds.\\n2. Then, he added enough brownies to triple the weight, so the weight of jelly beans + brownies is 3 * 2 = <<3*2=6>>6 pounds.\\n3. Next, he added another 2 pounds of jelly beans, making the total weight jelly beans + brownies + 2 pounds of jelly beans = 6 + 2 = <<6+2=8>>8 pounds.\\n4. Finally, he added enough gummy worms to double the weight once again. So, the final weight is 8 * 2 = <<8*2=16>>16 pounds.\\n\\nTherefore, the final weight of the box of goodies was 16 pounds.\""
      ]
     },
     "execution_count": 30,
     "metadata": {},
     "output_type": "execute_result"
    }
   ],
   "source": [
    "stream['message']['content']"
   ]
  },
  {
   "cell_type": "code",
   "execution_count": 31,
   "metadata": {},
   "outputs": [],
   "source": [
    "box_stream_corrections = ollama.chat(\n",
    "    model='mistral',\n",
    "    messages=[\n",
    "        {'role': 'system', 'content': system_message_teacher},\n",
    "        {'role': 'user', 'content': box_question + stream['message']['content']}],\n",
    ")"
   ]
  },
  {
   "cell_type": "code",
   "execution_count": 32,
   "metadata": {},
   "outputs": [
    {
     "data": {
      "text/plain": [
       "\" That's correct! The final weight of the care package was 16 pounds. Well done, Ken, for creating a delicious and mathematically sound care package for your brother!\""
      ]
     },
     "execution_count": 32,
     "metadata": {},
     "output_type": "execute_result"
    }
   ],
   "source": [
    "box_stream_corrections['message']['content']"
   ]
  },
  {
   "cell_type": "code",
   "execution_count": null,
   "metadata": {},
   "outputs": [],
   "source": []
  },
  {
   "cell_type": "code",
   "execution_count": null,
   "metadata": {},
   "outputs": [],
   "source": [
    "'''нашла ответ, но сбилась с пути \n",
    "неправильно сложила,\n",
    "забыла умножить на один из коэф (нейросеть проверятель правильности счета, нейросеть, проверящая что ничего важного из условия в решении не пропущено\n",
    "путает сложение умножение\n",
    "вычитает не из того\n",
    "отрицательные материальные объекты, it seems like there is a mistake in the problem statement as the number of pizza pieces eaten exceeds the total number of pizza pieces bought. So, the question might need to be reviewed or corrected\n",
    "owever, this answer doesn't make much sense because we have calculated that both Lisa and Tommy earned the same amount. This suggests there might be some inconsistency or missing information in the problem state\n",
    "сотые доли из ниоткуда, пробемы с аппроксимацией,\n",
    "проверка физических вкеличин,\n",
    "Since there is no information about how many pencils were in each box before Arnel gave some away, we cannot determine the exact number of pencils in each box based on the given information.\\n\\nTherefore, we cannot find out how many pencils are in each box with the provided data.'''"
   ]
  },
  {
   "cell_type": "code",
   "execution_count": 38,
   "metadata": {},
   "outputs": [],
   "source": [
    "flowers_question = 'Mark has a garden with flowers. He planted plants of three different colors in it. Ten of them are yellow, and there are 80% more of those in purple. There are only 25% as many green flowers as there are yellow and purple flowers. How many flowers does Mark have in his garden?'"
   ]
  },
  {
   "cell_type": "code",
   "execution_count": 39,
   "metadata": {},
   "outputs": [],
   "source": [
    "stream = ollama.chat(\n",
    "    model='mistral',\n",
    "    messages=[\n",
    "        {'role': 'system', 'content': system_message_student},\n",
    "        {'role': 'user', 'content': flowers_question}],\n",
    ")"
   ]
  },
  {
   "cell_type": "code",
   "execution_count": 40,
   "metadata": {},
   "outputs": [
    {
     "data": {
      "text/plain": [
       "\" Let's break down the problem into parts and solve it step by step using different approaches:\\n\\nApproach 1 (Using given information directly):\\nLet x be the number of yellow flowers, y be the number of purple flowers, and z be the number of green flowers. We know that:\\nx = 10\\nx + 0.8x = 2 * 10 (since there are 80% more purple flowers than yellow) => 1.8x = 20 => x = 11.11 * 10 = 11.11 * 100 = 111.1 (Since we cannot have a fraction of a flower, let's assume there are 111 yellow flowers)\\ny = 1.8x => y = 1.8 * 111 = 199.88 => Rounding up to the nearest whole number, there are approximately 200 purple flowers.\\nx + y + z = Total number of flowers in the garden.\\n\\nApproach 2 (Using percentages):\\nWe know that yellow flowers make up 50% (10 out of 20) of the total number of yellow and purple flowers, and there are 80% more purple flowers than yellow ones. So, the ratio of yellow to purple flowers is 1:3. Also, we know that green flowers make up only 25% of the total number of flowers. Since there are equal parts in the ratio of yellow and purple flowers, the part of green flowers would be 1/4th of the total number of flowers. So, the total number of flowers can be calculated as:\\nTotal number of flowers = (Yellow + Purple) * (1 + Green fraction) => Total number of flowers = (50% * (111+111) + 50%*(111+111)*3/4) => Total number of flowers = (2 * 111 + 2 * 111 * 3/4) => Approximately 378.57 flowers\\n\\nApproach 3 (Using equations):\\nLet x be the number of yellow flowers, y be the number of purple flowers, and z be the number of green flowers. We know that:\\nx + y + z = Total number of flowers in the garden\\nx = 10\\ny = 1.8x => y = 1.8 * 10 => y = 18\\nFrom the second piece of information, we can write this equation as:\\nz = 0.25(x + y) => z = 0.25*(10 + 18) => z = 7.5 * 29 => z ≈ 214.25\\nSince we cannot have a fraction of a flower, let's assume there are 215 green flowers.\\nThus, the total number of flowers in Mark's garden is x + y + z = 10 + 18+215 = 233 flowers (approximately).\""
      ]
     },
     "execution_count": 40,
     "metadata": {},
     "output_type": "execute_result"
    }
   ],
   "source": [
    "stream['message']['content']"
   ]
  },
  {
   "cell_type": "code",
   "execution_count": 43,
   "metadata": {},
   "outputs": [],
   "source": [
    "flowers_stream_corrections = ollama.chat(\n",
    "    model='mistral',\n",
    "    messages=[\n",
    "        {'role': 'system', 'content': system_message_teacher},\n",
    "        {'role': 'user', 'content': flowers_question + stream['message']['content']}],\n",
    ")"
   ]
  },
  {
   "cell_type": "code",
   "execution_count": 45,
   "metadata": {},
   "outputs": [
    {
     "data": {
      "text/plain": [
       "' Based on the given information and the different approaches presented, Approach 3 seems to provide the most likely correct answer. In this approach, we used the equations provided and made assumptions where necessary to get a whole number result for the total number of flowers in the garden.\\n\\nSo, the final answer is that Mark has approximately 233 flowers in his garden (10 yellow, 18 purple, and 215 green).'"
      ]
     },
     "execution_count": 45,
     "metadata": {},
     "output_type": "execute_result"
    }
   ],
   "source": [
    "flowers_stream_corrections['message']['content']"
   ]
  }
 ],
 "metadata": {
  "kernelspec": {
   "display_name": "Python 3",
   "language": "python",
   "name": "python3"
  },
  "language_info": {
   "codemirror_mode": {
    "name": "ipython",
    "version": 3
   },
   "file_extension": ".py",
   "mimetype": "text/x-python",
   "name": "python",
   "nbconvert_exporter": "python",
   "pygments_lexer": "ipython3",
   "version": "3.10.12"
  }
 },
 "nbformat": 4,
 "nbformat_minor": 2
}
